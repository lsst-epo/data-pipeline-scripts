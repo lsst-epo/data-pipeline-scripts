{
 "cells": [
  {
   "cell_type": "markdown",
   "id": "de004912-a83b-498b-a728-572459a9ce1e",
   "metadata": {},
   "source": [
    "# Data Viz Pipeline - PoC Notebook\n",
    "Demonstrates usage of the data viz pipeline script."
   ]
  },
  {
   "cell_type": "markdown",
   "id": "730479d8-0635-448f-9165-31405432fe7d",
   "metadata": {},
   "source": [
    "## Use TAP Query Service\n",
    "Curate data suitable for JSON upload."
   ]
  },
  {
   "cell_type": "code",
   "execution_count": null,
   "id": "99f30932-5754-4035-968f-05c125af2d67",
   "metadata": {
    "tags": []
   },
   "outputs": [],
   "source": [
    "# Load up the TAP query service\n",
    "from lsst.rsp import get_tap_service, retrieve_query\n",
    "import json\n",
    "import data_pipeline, utils\n",
    "    \n",
    "service = get_tap_service(\"tap\")\n",
    "\n",
    "batch_dir = \"./tabular_data/\"\n",
    "\n",
    "### Object table query\n",
    "object_results = service.search(\"SELECT objectId, coord_dec, Coord_ra, g_ra, i_ra, r_ra, u_ra, y_ra, z_ra, g_decl, i_decl, r_decl, u_decl, y_decl, z_decl, g_bdFluxB, i_bdFluxB, r_bdFluxB, u_bdFluxB, y_bdFluxB, z_bdFluxB, g_bdFluxD, i_bdFluxD, r_bdFluxD, u_bdFluxD, y_bdFluxD, z_bdFluxD, g_bdReB, i_bdReB, r_bdReB, u_bdReB, y_bdReB, z_bdReB, g_bdReD, i_bdReD, r_bdReD, u_bdReD, y_bdReD, z_bdReD \"\\\n",
    "                         \"FROM dp02_dc2_catalogs.Object\", maxrec=10)\n",
    "\n",
    "table_out = object_results.to_table() #.to_pandas()\n",
    "\n",
    "total_data = {}\n",
    "for name in table_out.colnames:\n",
    "    data = table_out[name].tolist()\n",
    "    total_data[name] = data\n",
    "\n",
    "# total_data\n",
    "\n",
    "with open(\"tab_data.json\", \"w\") as outfile: \n",
    "    json.dump(total_data, outfile)\n",
    "\n",
    "url = data_pipeline.upload_to_gcs(\"./tab_data.json\", \"quick_test\")\n",
    "url\n",
    "\n",
    "# table_out.write('./test.ecsv', format='ascii.ecsv')\n",
    "\n",
    "# ### DiaObject table query\n",
    "# dia_object_results = service.search(\"SELECT decl, ra, gPSFluxChi2, iPSFluxChi2, rPSFluxChi2, uPSFluxChi2, yPSFluxChi2, zPSFluxChi2, gPSFluxMax, iPSFluxMax, rPSFluxMax, uPSFluxMax, yPSFluxMax, zPSFluxMax, gPSFluxMin, iPSFluxMin, rPSFluxMin, uPSFluxMin, yPSFluxMin, zPSFluxMin, gPSFluxMean, iPSFluxMean, rPSFluxMean, uPSFluxMean, yPSFluxMean, zPSFluxMean, gPSFluxNdata, iPSFluxNdata, rPSFluxNdata, uPSFluxNdata, yPSFluxNdata, zPSFluxNdata \"\\\n",
    "#                          \"FROM dp02_dc2_catalogs.DiaObject\", maxrec=10)\n",
    "# # dia_object_results_tab = dia_object_results.to_table()\n",
    "# # dia_object_results_tab\n",
    "# dia_object_results_csv = create_csv_string_from_tabular_data(dia_object_results)\n",
    "# # dia_object_results_csv\n",
    "\n",
    "# ### ForcedSource table query\n",
    "# forced_source_results = service.search(\"SELECT forcedSourceId, objectId, parentObjectId, coord_ra, coord_dec, skymap, tract, patch, band, ccdVisitId, detect_isPatchInner, detect_isPrimary, detect_isTractInner,localBackground_instFluxErr, localBackground_instFlux, localPhotoCalibErr, localPhotoCalib_flag, localPhotoCalib, localWcs_CDMatrix_1_1, localWcs_CDMatrix_1_2, localWcs_CDMatrix_2_1, localWcs_CDMatrix_2_2, localWcs_flag, pixelFlags_bad, pixelFlags_crCenter, pixelFlags_cr, pixelFlags_edge, pixelFlags_interpolatedCenter, pixelFlags_interpolated, pixelFlags_saturatedCenter, pixelFlags_saturated, pixelFlags_suspectCenter, pixelFlags_suspect, psfDiffFluxErr, psfDiffFlux_flag, psfDiffFlux, psfFluxErr, psfFlux_flag, psfFlux \"\\\n",
    "#                          \"FROM dp02_dc2_catalogs.ForcedSource\", maxrec=10)\n",
    "# # forced_source_results_tab = forced_source_results.to_table()\n",
    "# # forced_source_results_tab"
   ]
  },
  {
   "cell_type": "code",
   "execution_count": null,
   "id": "fb53654c-8025-4492-948c-56e15ac4ac3f",
   "metadata": {},
   "outputs": [],
   "source": [
    "import data_pipeline\n",
    "res = data_pipeline.upload_to_canto(\"./cat.jpg\")\n",
    "res"
   ]
  },
  {
   "cell_type": "markdown",
   "id": "b9b949ce-2c08-4c0c-91c1-8c842b05316a",
   "metadata": {},
   "source": []
  }
 ],
 "metadata": {
  "kernelspec": {
   "display_name": "LSST",
   "language": "python",
   "name": "lsst"
  },
  "language_info": {
   "codemirror_mode": {
    "name": "ipython",
    "version": 3
   },
   "file_extension": ".py",
   "mimetype": "text/x-python",
   "name": "python",
   "nbconvert_exporter": "python",
   "pygments_lexer": "ipython3",
   "version": "3.11.4"
  }
 },
 "nbformat": 4,
 "nbformat_minor": 5
}
