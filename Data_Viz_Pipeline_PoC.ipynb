{
 "cells": [
  {
   "cell_type": "markdown",
   "id": "de004912-a83b-498b-a728-572459a9ce1e",
   "metadata": {},
   "source": [
    "# Data Viz Pipeline - PoC Notebook\n",
    "Demonstrates usage of the data viz pipeline script."
   ]
  },
  {
   "cell_type": "markdown",
   "id": "730479d8-0635-448f-9165-31405432fe7d",
   "metadata": {},
   "source": [
    "## Use TAP Query Service\n",
    "Curate data suitable for JSON upload."
   ]
  },
  {
   "cell_type": "code",
   "execution_count": null,
   "id": "a9c9aa95-ac3d-4e1f-9dbe-c3cca776d53e",
   "metadata": {
    "tags": []
   },
   "outputs": [],
   "source": [
    "# Load up the TAP query service\n",
    "from lsst.rsp import get_tap_service, retrieve_query\n",
    "import json\n",
    "import data_pipeline, utils\n",
    "    \n",
    "service = get_tap_service(\"tap\")\n",
    "\n",
    "batch_dir = \"./tabular_data/\"\n",
    "\n",
    "### Object table query\n",
    "object_results = service.search(\"SELECT objectId, coord_dec, Coord_ra, g_ra, i_ra, r_ra, u_ra, y_ra, z_ra, g_decl, i_decl, r_decl, u_decl, y_decl, z_decl, g_bdFluxB, i_bdFluxB, r_bdFluxB, u_bdFluxB, y_bdFluxB, z_bdFluxB, g_bdFluxD, i_bdFluxD, r_bdFluxD, u_bdFluxD, y_bdFluxD, z_bdFluxD, g_bdReB, i_bdReB, r_bdReB, u_bdReB, y_bdReB, z_bdReB, g_bdReD, i_bdReD, r_bdReD, u_bdReD, y_bdReD, z_bdReD \"\\\n",
    "                         \"FROM dp02_dc2_catalogs.Object\", maxrec=10)\n",
    "\n",
    "table_out = object_results.to_table() #.to_pandas()\n",
    "table_out\n",
    "\n",
    "total_data = {}\n",
    "\n",
    "for name in table_out.colnames:\n",
    "    data = table_out[name].tolist()\n",
    "    if name == \"objectId\":\n",
    "        data = list(map(str, data))\n",
    "    total_data[name] = data\n",
    "\n",
    "total_data\n",
    "\n",
    "# with open(\"tab_data.json\", \"w\") as outfile: \n",
    "#     json.dump(total_data, outfile)\n",
    "\n",
    "# url = data_pipeline.upload_to_gcs(\"./tab_data.json\", \"quick_test\")\n",
    "# url\n",
    "\n",
    "# table_out.write('./test.ecsv', format='ascii.ecsv')\n",
    "\n",
    "# ### DiaObject table query\n",
    "# dia_object_results = service.search(\"SELECT decl, ra, gPSFluxChi2, iPSFluxChi2, rPSFluxChi2, uPSFluxChi2, yPSFluxChi2, zPSFluxChi2, gPSFluxMax, iPSFluxMax, rPSFluxMax, uPSFluxMax, yPSFluxMax, zPSFluxMax, gPSFluxMin, iPSFluxMin, rPSFluxMin, uPSFluxMin, yPSFluxMin, zPSFluxMin, gPSFluxMean, iPSFluxMean, rPSFluxMean, uPSFluxMean, yPSFluxMean, zPSFluxMean, gPSFluxNdata, iPSFluxNdata, rPSFluxNdata, uPSFluxNdata, yPSFluxNdata, zPSFluxNdata \"\\\n",
    "#                          \"FROM dp02_dc2_catalogs.DiaObject\", maxrec=10)\n",
    "# # dia_object_results_tab = dia_object_results.to_table()\n",
    "# # dia_object_results_tab\n",
    "# dia_object_results_csv = create_csv_string_from_tabular_data(dia_object_results)\n",
    "# # dia_object_results_csv\n",
    "\n",
    "# ### ForcedSource table query\n",
    "# forced_source_results = service.search(\"SELECT forcedSourceId, objectId, parentObjectId, coord_ra, coord_dec, skymap, tract, patch, band, ccdVisitId, detect_isPatchInner, detect_isPrimary, detect_isTractInner,localBackground_instFluxErr, localBackground_instFlux, localPhotoCalibErr, localPhotoCalib_flag, localPhotoCalib, localWcs_CDMatrix_1_1, localWcs_CDMatrix_1_2, localWcs_CDMatrix_2_1, localWcs_CDMatrix_2_2, localWcs_flag, pixelFlags_bad, pixelFlags_crCenter, pixelFlags_cr, pixelFlags_edge, pixelFlags_interpolatedCenter, pixelFlags_interpolated, pixelFlags_saturatedCenter, pixelFlags_saturated, pixelFlags_suspectCenter, pixelFlags_suspect, psfDiffFluxErr, psfDiffFlux_flag, psfDiffFlux, psfFluxErr, psfFlux_flag, psfFlux \"\\\n",
    "#                          \"FROM dp02_dc2_catalogs.ForcedSource\", maxrec=10)\n",
    "# # forced_source_results_tab = forced_source_results.to_table()\n",
    "# # forced_source_results_tab"
   ]
  },
  {
   "cell_type": "markdown",
   "id": "118047e9-6309-415b-972f-4d948d408223",
   "metadata": {},
   "source": [
    "## Uploading to Canto"
   ]
  },
  {
   "cell_type": "code",
   "execution_count": null,
   "id": "1518c948-a17d-4279-b2fb-8443989667ed",
   "metadata": {},
   "outputs": [],
   "source": [
    "import data_pipeline\n",
    "res = data_pipeline.upload_to_canto(\"\")\n",
    "res"
   ]
  },
  {
   "cell_type": "markdown",
   "id": "cec4c941-9252-4d24-9dea-a0c28cd51481",
   "metadata": {
    "tags": []
   },
   "source": [
    "## Install Bokeh Package\n",
    "Before the below cells will work, run the following command in a terminal tab:\n",
    "`pip install jupyter_bokeh`"
   ]
  },
  {
   "cell_type": "code",
   "execution_count": null,
   "id": "e72180db-3be6-444d-ab44-bba7171ca356",
   "metadata": {
    "tags": []
   },
   "outputs": [],
   "source": [
    "from bokeh.io import output_notebook\n",
    "from bokeh.layouts import gridplot\n",
    "from bokeh.models import BooleanFilter, CDSView, ColumnDataSource, Label, LabelSet\n",
    "from bokeh.plotting import figure, show\n",
    "output_notebook()\n",
    "\n",
    "table_out\n",
    "source = ColumnDataSource(data=total_data)\n",
    "\n",
    "bools = [True if y_val > 2.0 else False for y_val in source.data['coord_dec']]\n",
    "view = CDSView(filter=BooleanFilter(bools))\n",
    "\n",
    "TOOLS = \"pan,box_select,hover,reset\"\n",
    "TOOLTIPS = [\n",
    "    (\"objectId\", \"@objectId\"),\n",
    "    (\"ra\", \"@Coord_ra\"),\n",
    "    (\"dec\", \"@coord_dec\"),\n",
    "    (\"g_ra\", \"@g_ra\"),\n",
    "    (\"i_ra\", \"@i_ra\"),\n",
    "    (\"r_ra\", \"@r_ra\"),\n",
    "    (\"u_ra\", \"@u_ra\"),\n",
    "    (\"y_ra\", \"@y_ra\"),\n",
    "    (\"z_ra\", \"@z_ra\"),\n",
    "    (\"g_decl\", \"@g_decl\"),\n",
    "    (\"i_decl\", \"@i_decl\"),\n",
    "    (\"r_decl\", \"@r_decl\"),\n",
    "    (\"u_decl\", \"@u_decl\"),\n",
    "    (\"y_decl\", \"@y_decl\"),\n",
    "    (\"z_decl\", \"@z_decl\"),\n",
    "    (\"g_bdFluxB\", \"@g_bdFluxB\"),\n",
    "    (\"i_bdFluxB\", \"@i_bdFluxB\"),\n",
    "    (\"r_bdFluxB\", \"@r_bdFluxB\"),\n",
    "    (\"u_bdFluxB\", \"@u_bdFluxB\"),\n",
    "    (\"y_bdFluxB\", \"@y_bdFluxB\"),\n",
    "    (\"z_bdFluxB\", \"@z_bdFluxB\"),\n",
    "    (\"g_bdFluxD\", \"@g_bdFluxD\"),\n",
    "    (\"i_bdFluxD\", \"@i_bdFluxD\"),\n",
    "    (\"r_bdFluxD\", \"@r_bdFluxD\"),\n",
    "    (\"u_bdFluxD\", \"@u_bdFluxD\"),\n",
    "    (\"y_bdFluxD\", \"@y_bdFluxD\"),\n",
    "    (\"z_bdFluxD\", \"@z_bdFluxD\"),\n",
    "    (\"g_bdReB\", \"@g_bdReB\"),\n",
    "    (\"i_bdReB\", \"@i_bdReB\"),\n",
    "    (\"r_bdReB\", \"@r_bdReB\"),\n",
    "    (\"u_bdReB\", \"@u_bdReB\"),\n",
    "    (\"y_bdReB\", \"@y_bdReB\"),\n",
    "    (\"z_bdReB\", \"@z_bdReB\"),\n",
    "    (\"g_bdReD\", \"@g_bdReD\"),\n",
    "    (\"i_bdReD\", \"@i_bdReD\"),\n",
    "    (\"r_bdReD\", \"@r_bdReD\"),\n",
    "    (\"u_bdReD\", \"@u_bdReD\"),\n",
    "    (\"y_bdReD\", \"@y_bdReD\"),\n",
    "    (\"z_bdReD\", \"@z_bdReD\")\n",
    "]\n",
    "\n",
    "p1 = figure(height=500, width=800, tools=TOOLS, tooltips=TOOLTIPS, title=\"Playing around with some data\")\n",
    "p1.circle(x=\"Coord_ra\", y=\"coord_dec\", size=10, hover_color=\"red\", source=source)\n",
    "p1.xaxis.axis_label = 'Ra'\n",
    "p1.yaxis.axis_label = 'Dec'\n",
    "# labels = LabelSet(x='Coord_ra', y='coord_dec', text='objectId',\n",
    "#                   x_offset=5, y_offset=5, source=source)\n",
    "# p1.add_layout(labels)\n",
    "\n",
    "p = gridplot([[p1]])\n",
    "\n",
    "show(p)"
   ]
  },
  {
   "cell_type": "code",
   "execution_count": null,
   "id": "97e6aa8e-7ba5-417f-bf8d-1f008dc8051c",
   "metadata": {},
   "outputs": [],
   "source": [
    "from bokeh.io import push_notebook, show, output_notebook\n",
    "from bokeh.layouts import row\n",
    "from bokeh.plotting import figure\n",
    "output_notebook()\n",
    "\n",
    "p1 = figure(width=250, height=250)\n",
    "r1 = p1.circle([1,2,3], [4,5,6], size=20)\n",
    "\n",
    "p2 = figure(width=250, height=250)\n",
    "r2 = p2.circle([1,2,3], [4,5,6], size=20)\n",
    "\n",
    "t = show(row(p1, p2), notebook_handle=False)\n",
    "t"
   ]
  },
  {
   "cell_type": "code",
   "execution_count": null,
   "id": "52cfb126-f6e4-47a5-8a3b-b9a60e62581b",
   "metadata": {},
   "outputs": [],
   "source": []
  }
 ],
 "metadata": {
  "kernelspec": {
   "display_name": "LSST",
   "language": "python",
   "name": "lsst"
  },
  "language_info": {
   "codemirror_mode": {
    "name": "ipython",
    "version": 3
   },
   "file_extension": ".py",
   "mimetype": "text/x-python",
   "name": "python",
   "nbconvert_exporter": "python",
   "pygments_lexer": "ipython3",
   "version": "3.11.4"
  }
 },
 "nbformat": 4,
 "nbformat_minor": 5
}
